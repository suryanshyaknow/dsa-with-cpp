{
 "cells": [
  {
   "cell_type": "markdown",
   "id": "0aa56f47",
   "metadata": {},
   "source": [
    "## Arrays:"
   ]
  },
  {
   "cell_type": "markdown",
   "id": "a10e5881",
   "metadata": {},
   "source": [
    "- e **https://leetcode.com/problems/best-time-to-buy-and-sell-stock/**\n",
    "- e **https://leetcode.com/problems/missing-number/**\n",
    "- m **https://leetcode.com/problems/rotate-array/**   \n",
    "- m **https://leetcode.com/problems/rotate-image/**                 \n",
    "- m **https://leetcode.com/problems/spiral-matrix/**               \n",
    "- m **https://leetcode.com/problems/search-a-2d-matrix-ii/**   \n",
    "- m **https://leetcode.com/problems/best-time-to-buy-and-sell-stock-ii/**   \n",
    "- m **https://leetcode.com/problems/range-sum-query-2d-immutable**\n",
    "- m **https://leetcode.com/problems/max-chunks-to-make-sorted**\n",
    "- h **https://leetcode.com/problems/first-missing-positive/**\n",
    "- h **https://leetcode.com/problems/trapping-rain-water/**  "
   ]
  },
  {
   "cell_type": "code",
   "execution_count": null,
   "id": "4aaaf35f",
   "metadata": {},
   "outputs": [],
   "source": []
  }
 ],
 "metadata": {
  "kernelspec": {
   "display_name": "Python 3 (ipykernel)",
   "language": "python",
   "name": "python3"
  },
  "language_info": {
   "codemirror_mode": {
    "name": "ipython",
    "version": 3
   },
   "file_extension": ".py",
   "mimetype": "text/x-python",
   "name": "python",
   "nbconvert_exporter": "python",
   "pygments_lexer": "ipython3",
   "version": "3.9.12"
  }
 },
 "nbformat": 4,
 "nbformat_minor": 5
}
