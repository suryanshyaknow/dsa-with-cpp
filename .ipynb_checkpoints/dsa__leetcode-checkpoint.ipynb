{
 "cells": [
  {
   "cell_type": "markdown",
   "id": "0cde8619",
   "metadata": {},
   "source": [
    "## Arrays:"
   ]
  },
  {
   "cell_type": "markdown",
   "id": "37c413cc",
   "metadata": {},
   "source": [
    "- **https://leetcode.com/problems/rotate-array/**       \n",
    "- **https://leetcode.com/problems/trapping-rain-water/**  \n",
    "- **https://leetcode.com/problems/rotate-image/**                 \n",
    "- **https://leetcode.com/problems/spiral-matrix/**               \n",
    "- **https://leetcode.com/problems/search-a-2d-matrix-ii/**   \n",
    "- **https://leetcode.com/problems/best-time-to-buy-and-sell-stock/**   \n",
    "- **https://leetcode.com/problems/best-time-to-buy-and-sell-stock-ii/**   \n",
    "- **https://leetcode.com/problems/range-sum-query-2d-immutable**\n",
    "- **https://leetcode.com/problems/max-chunks-to-make-sorted**\n",
    "- **https://leetcode.com/problems/missing-number/**\n",
    "- **https://leetcode.com/problems/first-missing-positive/**  \n",
    "- **https://leetcode.com/problems/max-chunks-to-make-sorted/** "
   ]
  },
  {
   "cell_type": "code",
   "execution_count": null,
   "id": "3757c757",
   "metadata": {},
   "outputs": [],
   "source": []
  }
 ],
 "metadata": {
  "kernelspec": {
   "display_name": "Python 3 (ipykernel)",
   "language": "python",
   "name": "python3"
  },
  "language_info": {
   "codemirror_mode": {
    "name": "ipython",
    "version": 3
   },
   "file_extension": ".py",
   "mimetype": "text/x-python",
   "name": "python",
   "nbconvert_exporter": "python",
   "pygments_lexer": "ipython3",
   "version": "3.9.12"
  }
 },
 "nbformat": 4,
 "nbformat_minor": 5
}
